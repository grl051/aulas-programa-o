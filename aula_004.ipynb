{
  "nbformat": 4,
  "nbformat_minor": 0,
  "metadata": {
    "colab": {
      "provenance": [],
      "collapsed_sections": [
        "FHM7uecT2tpp"
      ],
      "toc_visible": true,
      "include_colab_link": true
    },
    "kernelspec": {
      "name": "python3",
      "display_name": "Python 3"
    },
    "language_info": {
      "name": "python"
    }
  },
  "cells": [
    {
      "cell_type": "markdown",
      "metadata": {
        "id": "view-in-github",
        "colab_type": "text"
      },
      "source": [
        "<a href=\"https://colab.research.google.com/github/grl051/aulas-programa-o/blob/main/aula_004.ipynb\" target=\"_parent\"><img src=\"https://colab.research.google.com/assets/colab-badge.svg\" alt=\"Open In Colab\"/></a>"
      ]
    },
    {
      "cell_type": "markdown",
      "source": [
        "# Listas"
      ],
      "metadata": {
        "id": "C6IfPVrWyScY"
      }
    },
    {
      "cell_type": "code",
      "source": [
        "#Listas são estruturas de dados formadas por elementos de um mesmo tipo\n",
        "num = [25, 4, 3, 6, 9]"
      ],
      "metadata": {
        "id": "TypIylFnoAkl"
      },
      "execution_count": null,
      "outputs": []
    },
    {
      "cell_type": "code",
      "source": [
        "#tamanho de uma lista\n",
        "len(num)"
      ],
      "metadata": {
        "colab": {
          "base_uri": "https://localhost:8080/"
        },
        "id": "YIN0E22joAuK",
        "outputId": "1fce6f40-2ad5-41c4-b4ac-c995d77ab352"
      },
      "execution_count": null,
      "outputs": [
        {
          "output_type": "execute_result",
          "data": {
            "text/plain": [
              "5"
            ]
          },
          "metadata": {},
          "execution_count": 8
        }
      ]
    },
    {
      "cell_type": "code",
      "source": [
        "num[4]"
      ],
      "metadata": {
        "colab": {
          "base_uri": "https://localhost:8080/"
        },
        "id": "AwqkOAt5CRil",
        "outputId": "be91d4ac-58d4-4d45-a82c-67c5b682062b"
      },
      "execution_count": null,
      "outputs": [
        {
          "output_type": "execute_result",
          "data": {
            "text/plain": [
              "9"
            ]
          },
          "metadata": {},
          "execution_count": 15
        }
      ]
    },
    {
      "cell_type": "code",
      "source": [
        "#A ordenação das listas têm índice que inicia em 0, e vai até o tamanho da lista menos 1\n",
        "print(num[0]) #Primeiro ítem da lista\n",
        "print(num[1])\n",
        "print(num[2])\n",
        "print(num[3])\n",
        "print(num[4])\n",
        "print(num[5]) #Fora do índice"
      ],
      "metadata": {
        "id": "qblM7OsgoArL"
      },
      "execution_count": null,
      "outputs": []
    },
    {
      "cell_type": "code",
      "source": [
        "#listas de outros tipos\n",
        "alunos = ['Mariana', 'Luiz', 'Higor', 'Enzo', 'Valentina']"
      ],
      "metadata": {
        "id": "g7r_7nZZpMA_"
      },
      "execution_count": null,
      "outputs": []
    },
    {
      "cell_type": "code",
      "source": [
        "#alterar o valores de ítens de lista\n",
        "alunos[3] = 'Ivan'"
      ],
      "metadata": {
        "id": "ADe8qqc6nnSv"
      },
      "execution_count": null,
      "outputs": []
    },
    {
      "cell_type": "code",
      "source": [
        "#inserir valores na lista .append()\n",
        "alunos.append('Alex')"
      ],
      "metadata": {
        "id": "bDjrZAe5n7hn"
      },
      "execution_count": null,
      "outputs": []
    },
    {
      "cell_type": "code",
      "source": [
        "alunos.append(input('Digite o nome: '))"
      ],
      "metadata": {
        "id": "8okPJZquF6fR"
      },
      "execution_count": null,
      "outputs": []
    },
    {
      "cell_type": "code",
      "source": [
        "alunos"
      ],
      "metadata": {
        "id": "bidLoKy4GKE1"
      },
      "execution_count": null,
      "outputs": []
    },
    {
      "cell_type": "code",
      "source": [
        "#Descobrir se há um valor determinado na lista, exibir sua posição na lista\n",
        "if 'Luiz' in alunos:\n",
        "  print('Tem luiz SIIM')\n",
        "else:\n",
        "  print('Tem ')"
      ],
      "metadata": {
        "id": "nJDduZtfoKUu"
      },
      "execution_count": null,
      "outputs": []
    },
    {
      "cell_type": "code",
      "source": [
        "nome = input('Digite o nome: ')\n",
        "if nome in alunos:\n",
        "  print('Tem ', nome)\n",
        "else:\n",
        "  print('Não tem ', nome)"
      ],
      "metadata": {
        "id": "9NWVntkUPv0C"
      },
      "execution_count": null,
      "outputs": []
    },
    {
      "cell_type": "code",
      "source": [
        "#deletar um item específico da lista de compras\n",
        "del alunos[0]"
      ],
      "metadata": {
        "id": "kX_uAk5Jop_Y"
      },
      "execution_count": null,
      "outputs": []
    },
    {
      "cell_type": "markdown",
      "source": [
        "Exercícios. \n",
        "1. Crie uma lista contendo 5 atores ou atrizes\n",
        "2. Faça uma busca nessa lista, e verifique se há um determinado nome na lista. Notifique se há ou não o nome na lista\n",
        "3. Modifique o código criado no item anterior, para que, além de verificar se há o nome na lista, deletar o registro do nome digitado."
      ],
      "metadata": {
        "id": "XNj0dT0SpCXb"
      }
    },
    {
      "cell_type": "markdown",
      "source": [
        "#Laço for"
      ],
      "metadata": {
        "id": "1qyAIuVKxf5J"
      }
    },
    {
      "cell_type": "code",
      "source": [],
      "metadata": {
        "id": "9zF4Y44gS5_U"
      },
      "execution_count": null,
      "outputs": []
    },
    {
      "cell_type": "code",
      "source": [
        "#Criar uma lista com números de 1 a 15\n",
        "numeros = []\n",
        "for num in range(15):\n",
        "  numeros.append(num)"
      ],
      "metadata": {
        "id": "T0Mu0NK7vQ_R"
      },
      "execution_count": null,
      "outputs": []
    },
    {
      "cell_type": "code",
      "source": [
        "#(Parentesis)Descobrir se um número é par\n",
        "a = 8\n",
        "if a%2 == 0:\n",
        "  print('É par')\n",
        "else:\n",
        "  print('É impar')"
      ],
      "metadata": {
        "id": "7MKrVTLgWhA7"
      },
      "execution_count": null,
      "outputs": []
    },
    {
      "cell_type": "code",
      "source": [
        "for num in numeros:\n",
        "  if num%2 == 0:\n",
        "    print(num)"
      ],
      "metadata": {
        "id": "DglKKmcSYyF8"
      },
      "execution_count": null,
      "outputs": []
    },
    {
      "cell_type": "code",
      "source": [
        "#criar uma nova lista chamada dobro\n",
        "#Dobro recebe os elementos da lista numeros, cada um multiplicado por 2\n",
        "dobro = []\n",
        "for num in numeros:\n",
        "  dobro.append(num * 2) \n",
        "dobro"
      ],
      "metadata": {
        "id": "WdYmg7FCwGJ6"
      },
      "execution_count": null,
      "outputs": []
    },
    {
      "cell_type": "code",
      "source": [
        "#Exercicio\n",
        "## Crie uma lista chamada notas, que receba 5 notas de alunos de uma turma"
      ],
      "metadata": {
        "id": "lzA45aiewypn"
      },
      "execution_count": null,
      "outputs": []
    },
    {
      "cell_type": "code",
      "source": [
        "jogos = ['Mario', 'Sonic', 'God of War', 'The Last of Us', 'Tetris']"
      ],
      "metadata": {
        "id": "sQ7oCfNItfW0"
      },
      "execution_count": null,
      "outputs": []
    },
    {
      "cell_type": "code",
      "source": [
        "#imprimir os elementos de uma lista\n",
        "for jogo in jogos:\n",
        "  print(jogo)\n"
      ],
      "metadata": {
        "id": "4aKJucNzuvF2"
      },
      "execution_count": null,
      "outputs": []
    },
    {
      "cell_type": "code",
      "source": [
        "# crie um código que insere novos títulos a lista jogos"
      ],
      "metadata": {
        "id": "Cr__PsZWE2ax"
      },
      "execution_count": null,
      "outputs": []
    },
    {
      "cell_type": "markdown",
      "source": [
        "#Laço While"
      ],
      "metadata": {
        "id": "FHM7uecT2tpp"
      }
    },
    {
      "cell_type": "code",
      "source": [
        "#Criar um programa que lista os números de 1 a 10\n",
        "##Precisamos de um contador!\n",
        "cont = 0\n",
        "\n",
        "while (cont < 10):\n",
        "  print(cont +1)\n",
        "  cont+=1"
      ],
      "metadata": {
        "id": "yOyiQ_2rtsK9",
        "outputId": "c6e0da79-cb82-422a-fb83-5d393d8c8094",
        "colab": {
          "base_uri": "https://localhost:8080/"
        }
      },
      "execution_count": null,
      "outputs": [
        {
          "output_type": "stream",
          "name": "stdout",
          "text": [
            "1\n",
            "2\n",
            "3\n",
            "4\n",
            "5\n",
            "6\n",
            "7\n",
            "8\n",
            "9\n",
            "10\n"
          ]
        }
      ]
    },
    {
      "cell_type": "code",
      "source": [
        "cont = 1\n",
        "numeros = []\n",
        "\n",
        "while (cont <=10):\n",
        "  numeros.append(cont)\n",
        "  cont +=1\n",
        "numeros"
      ],
      "metadata": {
        "id": "HHdzMvIdRYhh",
        "outputId": "6e0e667d-2d64-4609-b155-4e17c3f12086",
        "colab": {
          "base_uri": "https://localhost:8080/"
        }
      },
      "execution_count": null,
      "outputs": [
        {
          "output_type": "execute_result",
          "data": {
            "text/plain": [
              "[1, 2, 3, 4, 5, 6, 7, 8, 9, 10]"
            ]
          },
          "metadata": {},
          "execution_count": 7
        }
      ]
    },
    {
      "cell_type": "code",
      "source": [
        "#Pede ao usuário para inserir um número inteiro maior que 1\n",
        "#O programa deve imprimir todos os números até o número digitado.\n",
        "cont = 0\n",
        "num = int(input('insira um número '))\n",
        "while (cont <= num):\n",
        "  print(cont)\n",
        "  cont+=1"
      ],
      "metadata": {
        "id": "cDkznQIP4Caq",
        "outputId": "d40b9335-7c21-4560-ac1f-244c64018e6d",
        "colab": {
          "base_uri": "https://localhost:8080/"
        }
      },
      "execution_count": null,
      "outputs": [
        {
          "output_type": "stream",
          "name": "stdout",
          "text": [
            "insira um número 24\n",
            "0\n",
            "1\n",
            "2\n",
            "3\n",
            "4\n",
            "5\n",
            "6\n",
            "7\n",
            "8\n",
            "9\n",
            "10\n",
            "11\n",
            "12\n",
            "13\n",
            "14\n",
            "15\n",
            "16\n",
            "17\n",
            "18\n",
            "19\n",
            "20\n",
            "21\n",
            "22\n",
            "23\n",
            "24\n"
          ]
        }
      ]
    },
    {
      "cell_type": "code",
      "source": [
        "cont = 1\n",
        "num = int(input('insira um número '))\n",
        "while (cont <= num):\n",
        "  print(cont)\n",
        "  cont+=3"
      ],
      "metadata": {
        "id": "L1OB6HlKSe3X",
        "outputId": "592889e1-03e7-4af4-a0b2-52f2df8d1a67",
        "colab": {
          "base_uri": "https://localhost:8080/"
        }
      },
      "execution_count": null,
      "outputs": [
        {
          "output_type": "stream",
          "name": "stdout",
          "text": [
            "insira um número 32\n",
            "1\n",
            "4\n",
            "7\n",
            "10\n",
            "13\n",
            "16\n",
            "19\n",
            "22\n",
            "25\n",
            "28\n",
            "31\n"
          ]
        }
      ]
    },
    {
      "cell_type": "code",
      "source": [
        "cidades = []\n",
        "a = input(\"insira os nomes da cidade: \")\n",
        "tentativas = 5\n",
        "while(a != tentativas):\n",
        "  cidades.append(a)\n",
        "  a = input(\"insira os nomes da cidade\")\n",
        "\n",
        "\n",
        "cidades"
      ],
      "metadata": {
        "id": "nXlRG7V6U5kU",
        "outputId": "080476b1-50b3-42ad-96bc-d0728ee64a96",
        "colab": {
          "base_uri": "https://localhost:8080/"
        }
      },
      "execution_count": null,
      "outputs": [
        {
          "name": "stdout",
          "output_type": "stream",
          "text": [
            "insira os nomes da cidade: tentativas\n"
          ]
        },
        {
          "output_type": "execute_result",
          "data": {
            "text/plain": [
              "[]"
            ]
          },
          "metadata": {},
          "execution_count": 40
        }
      ]
    },
    {
      "cell_type": "code",
      "source": [
        "#Modifique o código anterior para que imprima apenas os números pares do intervalo"
      ],
      "metadata": {
        "id": "oAVTJ2dB46yf"
      },
      "execution_count": null,
      "outputs": []
    },
    {
      "cell_type": "code",
      "source": [],
      "metadata": {
        "id": "EpaTGInsTLwy"
      },
      "execution_count": null,
      "outputs": []
    },
    {
      "cell_type": "code",
      "source": [
        "#Retorna a soma de todos os números entre 1 e 100"
      ],
      "metadata": {
        "id": "J6EerHuW4fpd"
      },
      "execution_count": null,
      "outputs": []
    },
    {
      "cell_type": "code",
      "source": [
        "#Pede a senha do usuário. E dá 5 chances para o usuário inserir a senha correta."
      ],
      "metadata": {
        "id": "DeEWIdAm5FQJ"
      },
      "execution_count": null,
      "outputs": []
    },
    {
      "cell_type": "code",
      "source": [
        "#Altere o código anterior e insira o seguinte critério:\n",
        "#Caso terminem as 5 chances de inserir a senha, o programa deve informar \"tentativas excedidas!\""
      ],
      "metadata": {
        "id": "8GZ4XcJP5O9H"
      },
      "execution_count": null,
      "outputs": []
    },
    {
      "cell_type": "code",
      "source": [
        "#Testar a entrada do usuário\n",
        "#isdigit() Verificar se o que foi digitado é um número ou não\n",
        "num = input('digite um número')\n",
        "num.isdigit()"
      ],
      "metadata": {
        "id": "kmst7Y8rOVMc"
      },
      "execution_count": null,
      "outputs": []
    },
    {
      "cell_type": "code",
      "source": [
        "#Solicitar que o usuário digite um nome. Caso ele digite um número, avise \"Entrada incorreta!\"\n",
        "\n",
        "nome = input('Digite o nome! ')\n",
        "if(nome.isdigit()):\n",
        "  print('Entrada incorreta!')\n",
        "else:\n",
        "  print(f'o nome {nome} foi inserido com sucesso')"
      ],
      "metadata": {
        "id": "Q6eZLC7SPVn6"
      },
      "execution_count": null,
      "outputs": []
    },
    {
      "cell_type": "code",
      "source": [
        "#Solicitar que o usuário digite nomes de animais que serão inseridos em uma lista 'animais'.\n",
        "#O programa encerra quando um número for digitado. \n",
        "#ao final, exibe-se na tela a lista de animais.\n",
        "animais = []\n",
        "animal = input('Digite um nome de animal: ')\n",
        "\n",
        "while (animal.isdigit() == False):\n",
        "  animais.append(animal)\n",
        "  animal = input('Digite um nome de animal: ')\n",
        "\n",
        "animais"
      ],
      "metadata": {
        "id": "hifVOV77Qads"
      },
      "execution_count": null,
      "outputs": []
    },
    {
      "cell_type": "code",
      "source": [
        "#Solicitar que o usuário digite nomes de cidades e as armazene em uma lista. \n",
        "#O programa termina caso o usuário digite \"fim\"\n"
      ],
      "metadata": {
        "id": "XtKMs4NFTt_a"
      },
      "execution_count": null,
      "outputs": []
    },
    {
      "cell_type": "markdown",
      "source": [
        "#Lista de exercícios\n",
        "1. Escrever um algoritmo que lista todos os números ímpares que são múltiplos de três e que se encontram no conjunto dos números de 1 até 100.\n",
        "2. Escrever um algoritmo parecido com o anterior, mas que soma todos os múltiplos de 5 de 1 até 500.\n",
        "3. Crie um algoritmo que, dado um número informado pelo usuário, imprima a tabuada dele de 1 a 10. Use o formato de apresentação (considerando que o usuário informou o número 3):\n",
        "    - 3 x 1 = 3\n",
        "    - 3 x 2 = 6\n",
        "    - ...\n",
        "4. Desenvolva um programa que, lê o peso de 10 pessoas. Depois, calcula e mostra:\n",
        "  - O maior peso\n",
        "  - O menor peso\n",
        "5. Faça um programa que leia um número não determinado de valores. Depois, calcule e retorne na tela: \n",
        "  - A média aritmética de todos os números\n",
        "  - A quantidade de valores positivos\n",
        "  - A quantidade de valores negativos\n",
        "    * A condição de parada do laço é se o usuário digitar um caracter ou string.\n",
        "6. Escreva um algoritmo que lê uma quantidade desconhecida de números e contabilize quantos estão nos intervalos a seguir: [1-25], [26-50], [51-75], [76-100]. O input de dados deve parar quando for digitado o número 0.\n",
        "7. Faça um algoritmo que escreve os números ímpares entre 50 e 150\n",
        "8. Faça um algoritmo que permita ao usuário informar a idade de quantas pessoas ele desejar (para quando ele digitar um caractere ou string). Após isso o algoritmo deve informar a soma das pessoas maiores de idade e a média de idade das pessoas maiores de idade informadas.\n",
        "9. A sequência de Fibonacci é uma sucessão de números que, aparece em muitos fenômenos da natureza. Descrita no final do século 12 pelo italiano Leonardo Fibonacci, ela é infinita e começa com 0 e 1. Os números seguintes são sempre a soma dos dois números anteriores. Assim a sequência fica: {0, 1, 1, 2, 3, 5, 8, 13, 21, 34…}”. escreva um algoritmo que imprima na tela os n primeiros elementos da sequência de Fibonacci, onde n é informado pelo usuário."
      ],
      "metadata": {
        "id": "s2rr0qrNKtuv"
      }
    },
    {
      "cell_type": "code",
      "source": [
        "#Jogo adivinhe o número\n",
        "#Desenvolva um jogo de adivinhação que siga as seguintes regras:\n",
        "#1 - O jogo gera, aleatoriamente, um número secreto do tipo inteiro entre 0 e 100\n",
        "#2 - Solicita ao usuário que tente adivinhar o número entre 0 e 100.\n",
        "#3 - Um laço verifica se o número digitado é igual ao número secreto\n",
        "#4 - Se o número digitado for menor que o número secreto, o valor mínimo passa a ser o número digitado\n",
        "#5 - Se o número digitado for maior que o número secreto, o valor máximo passa a ser o número digitado\n",
        "#6 - se o jogador acertar, recebe uma mensagem de parabéns e o número de tentativas que foi necessária.\n",
        "###Para gerar inteiros aleatórios, importe from random import * e use a função randint()"
      ],
      "metadata": {
        "id": "ufzgetMJWdrp"
      },
      "execution_count": null,
      "outputs": []
    }
  ]
}